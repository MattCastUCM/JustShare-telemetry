{
 "cells": [
  {
   "cell_type": "code",
   "execution_count": null,
   "id": "879064d5",
   "metadata": {},
   "outputs": [],
   "source": [
    "import base64\n",
    "import requests\n",
    "import json\n",
    "\n",
    "def get_auth_token():\n",
    "\tusername = \"oMsoz51hM_OQbNNR3Nk\"\n",
    "\tpassword = \"LfWapsOhe1V-ryV2C6o\"\n",
    "\tauth_string = f\"{username}:{password}\"\n",
    "\tencoded_auth = base64.b64encode(auth_string.encode()).decode()\n",
    "\treturn encoded_auth\n",
    "\t\t\n",
    "def get_all_statements():\n",
    "\tscorm_base_url = \"https://cloud.scorm.com\"\n",
    "\tapplication_url = \"/lrs/I43WO3TFWH/sandbox/\"\n",
    "\tstatements_endpoint  = \"statements\"\n",
    "\t\n",
    "\turl = scorm_base_url + application_url + statements_endpoint \n",
    "\n",
    "\tall_statements = []\n",
    "\t\n",
    "\twhile True:\n",
    "\t\theaders = {\n",
    "\t\t\t'Authorization': f'Basic {get_auth_token()}',\n",
    "\t\t\t\"Content-Typer\": \"application/json\",\n",
    "\t\t\t\"X-Experience-API-Version\": \"1.0.2\"\n",
    "\t\t}\n",
    "\n",
    "\t\tparams = {\n",
    "\t\t\t'format': 'exact',\n",
    "\t\t}\n",
    "\n",
    "\t\tresponse = requests.get(url, headers=headers,params=params)\n",
    "\n",
    "\t\tdata = response.json()\n",
    "\n",
    "\t\tall_statements.extend(data[\"statements\"])\n",
    "\n",
    "\t\tif 'more' in data:\n",
    "\t\t\turl = scorm_base_url + data['more']\n",
    "\t\telse:\n",
    "\t\t\tbreak\n",
    "\n",
    "\twith open(\"scorm_cloud.json\", 'w') as f:\n",
    "\t\tjson.dump(all_statements, f, indent=2)\n",
    "\t\t\n",
    "\n",
    "get_all_statements()"
   ]
  },
  {
   "cell_type": "code",
   "execution_count": null,
   "id": "76928422",
   "metadata": {},
   "outputs": [],
   "source": []
  }
 ],
 "metadata": {
  "kernelspec": {
   "display_name": "base",
   "language": "python",
   "name": "python3"
  },
  "language_info": {
   "codemirror_mode": {
    "name": "ipython",
    "version": 3
   },
   "file_extension": ".py",
   "mimetype": "text/x-python",
   "name": "python",
   "nbconvert_exporter": "python",
   "pygments_lexer": "ipython3",
   "version": "3.12.3"
  }
 },
 "nbformat": 4,
 "nbformat_minor": 5
}
