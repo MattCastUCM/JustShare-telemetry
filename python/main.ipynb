{
 "cells": [
  {
   "cell_type": "code",
   "execution_count": null,
   "id": "5a2291f6",
   "metadata": {},
   "outputs": [],
   "source": [
    "import utils\n",
    "import loader\n",
    "import graphics\n",
    "\n",
    "from itertools import product\n",
    "\n",
    "import pandas as pd\n",
    "import matplotlib.pyplot as plt\n",
    "import numpy as np\n",
    "from PIL import Image\n",
    "\n",
    "\n",
    "# pd.set_option(\"display.max_rows\", None)\n",
    "# pd.set_option(\"display.max_columns\", None)\n",
    "\n",
    "# Se usan las trazas de Simva o las de Scorm\n",
    "use_scorm = False\n",
    "\n",
    "files_path = \"./trazas/simva/\"\n",
    "cols_to_drop = [\"stored\", \"id\", \"version\", \"actor.account.homePage\", \"authority.name\", \"authority.homePage\", \"context.contextActivities.category\", \"context.registration\", \"object.definition.name.en-US\", \"object.definition.description.en-US\", \"object.definition.type\", \"verb.display.en-US\", \"verb.id\", \"object.objectType\", \"result.response\", \"result.score.scaled\", \"result.completion\", \"result.success\"]\n",
    "\n",
    "if use_scorm:\n",
    "\tfiles_path = \"./trazas/scorm/\"\n",
    "\tcols_to_drop = [\"verb.display.en-US\", \"id\", \"stored\", \"version\", \"actor.objectType\", \"actor.account.homePage\", \"result.success\", \"result.completion\", \"context.registration\", \"authority.objectType\", \"authority.account.homePage\", \"authority.account.name\", \"authority.name\", \"object.definition.description.en-US\", \"object.definition.name.en-US\", \"object.objectType\", \"context.contextActivities.category\"]\n",
    "\n",
    "files_extension = \"json\"\n",
    "\n",
    "\n",
    "############################\n",
    "# Datos comunes\n",
    "# Sacado de los JSONs\n",
    "############################\n",
    "all_users_df, users_individual_df_list = loader.load_all_files(files_path, files_extension, \"timestamp\", cols_to_drop, use_scorm)\n",
    "n_users = len(users_individual_df_list)\n",
    "\n",
    "game_starts_conditions = [(\"object.id\", \"GameStart\")]\n",
    "game_starts = utils.find_indices_by_conditions(all_users_df, game_starts_conditions)\n",
    "game_starts = all_users_df.iloc[game_starts]\n",
    "game_starts = game_starts.drop_duplicates(subset=[\"actor.account.name\"])\n",
    "\n",
    "gender_sexuality_combinations = [\n",
    "\t('male', 'heterosexual'), \n",
    "\t('male', 'homosexual'), \n",
    "\t('male', 'bisexual'), \n",
    "\t('female', 'heterosexual'), \n",
    "\t('female', 'homosexual'), \n",
    "\t('female', 'bisexual')\n",
    "]\n",
    "demography = game_starts[[\"actor.account.name\", \"Gender\", \"Sexuality\"]].values.tolist()\n",
    "\n",
    "demography_info = {}\n",
    "for user in demography:\n",
    "\tdemography_info.update({user[0]: (user[1], user[2])})\n"
   ]
  },
  {
   "cell_type": "code",
   "execution_count": null,
   "id": "216f4d1c",
   "metadata": {},
   "outputs": [],
   "source": []
  }
 ],
 "metadata": {
  "kernelspec": {
   "display_name": "base",
   "language": "python",
   "name": "python3"
  },
  "language_info": {
   "codemirror_mode": {
    "name": "ipython",
    "version": 3
   },
   "file_extension": ".py",
   "mimetype": "text/x-python",
   "name": "python",
   "nbconvert_exporter": "python",
   "pygments_lexer": "ipython3",
   "version": "3.12.4"
  }
 },
 "nbformat": 4,
 "nbformat_minor": 5
}
